{
  "nbformat": 4,
  "nbformat_minor": 0,
  "metadata": {
    "colab": {
      "name": "RNA-Seq.ipynb",
      "provenance": [],
      "collapsed_sections": [],
      "include_colab_link": true
    },
    "kernelspec": {
      "name": "python3",
      "display_name": "Python 3"
    }
  },
  "cells": [
    {
      "cell_type": "markdown",
      "metadata": {
        "id": "view-in-github",
        "colab_type": "text"
      },
      "source": [
        "<a href=\"https://colab.research.google.com/github/ritagord/mipt_bioinformatics_2021/blob/main/2020/RNA-Seq/03.%20RNA-Seq%20tutorial.ipynb\" target=\"_parent\"><img src=\"https://colab.research.google.com/assets/colab-badge.svg\" alt=\"Open In Colab\"/></a>"
      ]
    },
    {
      "cell_type": "markdown",
      "metadata": {
        "id": "QYVxe3OSzgqq"
      },
      "source": [
        "<img src=\"https://blastim.ru/wp-content/uploads/wpjobboard/company/49/company-logo/bostongene-logo.jpg\" width=500 align=\"center\">"
      ]
    },
    {
      "cell_type": "markdown",
      "metadata": {
        "id": "T_sCi8Dxvhgj"
      },
      "source": [
        "# Практикум по анализу RNA-Seq\n",
        "\n",
        "<b>Автор</b>: Сергей Исаев"
      ]
    },
    {
      "cell_type": "markdown",
      "metadata": {
        "id": "2i6SVdavvr-f"
      },
      "source": [
        "## Загрузка прочтений\n",
        "\n",
        "На лекции мы с вами говорили о базе данных NCBI SRA. Для того, чтобы загружать данные оттуда, необходим специальный пакет программ SRA Toolkit. Этот пакет плохо ставится на Google Colab, поэтому мы загрузим данные из другой большой базы &mdash; <a href=\"https://www.ebi.ac.uk/arrayexpress/\" target=\"_blank\">ArrayExpress</a> при помощи <code>wget</code>.\n",
        "\n",
        "Из датасета с ID <a href=\"https://www.ebi.ac.uk/arrayexpress/experiments/E-MTAB-9724/\" target=\"_blank\">E-MTAB-9724</a> загрузим несколько прочтений экспериментов RNA-Seq клеточных линий LUAD (аденокарциномы лёгкого) &mdash; с нокаутом гена <i>STK11</i> и с диким типом. <b>Загрузка прочтений может занять много времени.</b>"
      ]
    },
    {
      "cell_type": "code",
      "metadata": {
        "id": "rbT0YEqDvvc5"
      },
      "source": [
        "!mkdir raw_reads\n",
        "!cd raw_reads && mkdir sample_7 sample_8 sample_9 sample_10 sample_11 sample_12\n",
        "\n",
        "#Wild type\n",
        "!cd raw_reads/sample_7 && \\\n",
        "    wget ftp://ftp.sra.ebi.ac.uk/vol1/fastq/ERR478/002/ERR4781422/ERR4781422_1.fastq.gz && \\\n",
        "    wget ftp://ftp.sra.ebi.ac.uk/vol1/fastq/ERR478/002/ERR4781422/ERR4781422_2.fastq.gz\n",
        "!cd raw_reads/sample_8 && \\\n",
        "    wget ftp://ftp.sra.ebi.ac.uk/vol1/fastq/ERR478/003/ERR4781423/ERR4781423_1.fastq.gz && \\\n",
        "    wget ftp://ftp.sra.ebi.ac.uk/vol1/fastq/ERR478/003/ERR4781423/ERR4781423_2.fastq.gz\n",
        "!cd raw_reads/sample_9 && \\\n",
        "    wget ftp://ftp.sra.ebi.ac.uk/vol1/fastq/ERR478/004/ERR4781424/ERR4781424_1.fastq.gz && \\\n",
        "    wget ftp://ftp.sra.ebi.ac.uk/vol1/fastq/ERR478/004/ERR4781424/ERR4781424_2.fastq.gz\n",
        "\n",
        "#STK11-/-\n",
        "!cd raw_reads/sample_10 && \\\n",
        "    wget ftp://ftp.sra.ebi.ac.uk/vol1/fastq/ERR478/005/ERR4781425/ERR4781425_1.fastq.gz && \\\n",
        "    wget ftp://ftp.sra.ebi.ac.uk/vol1/fastq/ERR478/005/ERR4781425/ERR4781425_2.fastq.gz\n",
        "!cd raw_reads/sample_11 && \\\n",
        "    wget ftp://ftp.sra.ebi.ac.uk/vol1/fastq/ERR478/006/ERR4781426/ERR4781426_1.fastq.gz && \\\n",
        "    wget ftp://ftp.sra.ebi.ac.uk/vol1/fastq/ERR478/006/ERR4781426/ERR4781426_2.fastq.gz\n",
        "!cd raw_reads/sample_12 && \\\n",
        "    wget ftp://ftp.sra.ebi.ac.uk/vol1/fastq/ERR478/007/ERR4781427/ERR4781427_1.fastq.gz && \\\n",
        "    wget ftp://ftp.sra.ebi.ac.uk/vol1/fastq/ERR478/007/ERR4781427/ERR4781427_2.fastq.gz"
      ],
      "execution_count": null,
      "outputs": []
    },
    {
      "cell_type": "markdown",
      "metadata": {
        "id": "DSNK1GAXegW1"
      },
      "source": [
        "В папке <code>raw_reads</code> у нас есть подпапки, соответствующие анализируемым экспериментам. В них находятся по два файла &mdash; с прямыми и обратными прочтениями. Сначала нам необходимо установить программы <a href=\"https://www.bioinformatics.babraham.ac.uk/projects/fastqc/\" target=\"_blank\">FastQC</a> и <a href=\"https://multiqc.info/\" target=\"_blank\">MultiQC</a> и провести контроль качества прочтений. Первая программа оценит разнообразные метрики качества ридов каждого образца, вторая &mdash; соберёт все аутпуты FastQC в один красивый. <b>Контроль качества каждого файла занимает по несколько минут.</b>"
      ]
    },
    {
      "cell_type": "code",
      "metadata": {
        "id": "hWxikZCtec1A"
      },
      "source": [
        "!sudo apt install fastqc\n",
        "!mkdir  raw_reads/fastqc\n",
        "!fastqc -o raw_reads/fastqc raw_reads/sample_*/*.fastq.gz"
      ],
      "execution_count": null,
      "outputs": []
    },
    {
      "cell_type": "markdown",
      "metadata": {
        "id": "Sf1d_jQy6T0c"
      },
      "source": [
        "На основе получившихся файлов FastQC запускаем MultiQC."
      ]
    },
    {
      "cell_type": "code",
      "metadata": {
        "id": "Z5wRGiXewMs5"
      },
      "source": [
        "!pip install multiqc\n",
        "!mkdir raw_reads/multiqc\n",
        "!multiqc -o raw_reads/multiqc raw_reads/fastqc/"
      ],
      "execution_count": null,
      "outputs": []
    },
    {
      "cell_type": "markdown",
      "metadata": {
        "id": "l14oybv2gm0x"
      },
      "source": [
        "После этого можно загрузить .html-отчёт о качестве (сейчас он находится в папке <code>raw_reads/multiqc</code>) себе на компьютер и посмотреть, всё ли хорошо с прочтениями (копия отчёта лежит в папке <code>data</code> под названием <code>00. MultiQC report.html</code>. Рассмотрим каждый пункт отчёта:\n",
        "1. Sequence Quality Histograms\n",
        "2. Per Sequence Quality Scores\n",
        "3. <b>Per Base Sequence Content</b> &mdash; проблемы тут связаны с особенностью подготовки библиотеки (использовались случайные праймеры)\n",
        "4. Per Sequence GC Content\n",
        "5. Per Base N Content\n",
        "6. Sequence Length Distribution\n",
        "7. <b>Sequence Duplication Levels</b> &mdash; в основе порогов данной метрики лежит предположение, что высокое количество дублирующихся прочтений говорит об артефактах ПЦР (это справедливо для, например, геномных библиотек, в которых встретить два одинаковых рида очень маловероятно). Однако для RNA-Seq-экспериментов это нормально, потому что какие-то гены могут встречаться очень часто из-за высокой копийности их РНК (<a href=\"https://www.bioinformatics.babraham.ac.uk/projects/fastqc/Help/3%20Analysis%20Modules/8%20Duplicate%20Sequences.html\" target=\"_blank\">источник</a>)\n",
        "8. <b>Overrepresented sequences</b> &mdash; проблема вызвана аналогичными седьмому пункту проблемами (<a href=\"https://www.bioinformatics.babraham.ac.uk/projects/fastqc/Help/3%20Analysis%20Modules/9%20Overrepresented%20Sequences.html\" target=\"_blank\">источник</a>)\n",
        "9. <b>Adapter Content</b> &mdash; мы видим, что у нас в большом числе прочтений содержатся технические адаптеры. Однако почти все современные алгоритмы для работы с RNA-Seq (в т.ч. и kallisto и STAR) автоматически прорабатывают эту проблему, поэтому мануального устранения не требуется (<a href=\"https://dnatech.genomecenter.ucdavis.edu/faqs/when-should-i-trim-my-illumina-reads-and-how-should-i-do-it/\" target=\"_blank\">про то, когда и зачем лучше обрезать адаптеры</a>)\n",
        "\n",
        "Из этого всего можно сделать вывод, что прочтения у нас хорошие и с ними можно работать."
      ]
    },
    {
      "cell_type": "markdown",
      "metadata": {
        "id": "8ugLuBT5mDEM"
      },
      "source": [
        "## Подсчёт экспрессий\n",
        "\n",
        "Непосредственно оценка экспрессий будет производиться при помощи программы <a href=\"https://pachterlab.github.io/kallisto/\" target=\"_blank\">kallisto</a> (<a href=\"https://www.nature.com/articles/nbt.3519\" target=\"_blank\">Bray et al, 2016</a>). В отличие от других подходов, в kallisto отсутствует стадия выравнивания прочтений на референсный геном или транскриптом. Данный подход строит граф де Брёйна из k-меров транскриптома, после k-меры прочтений образуют пути в этом графе. Основываясь на этих путях, производится максимально правдоподобная оценка экспрессий различных транскриптов.\n",
        "\n",
        "Подробнее про работу метода можно прочитать <a href=\"https://bioinfo.iric.ca/understanding-how-kallisto-works/#:~:text=The%20idea%20behind%20kallisto%20is,(not%20the%20whole%20genome).\" target=\"_blank\">здесь</a>. Первым шагом мы загрузим kallisto из git-репозитория и установим эту программу."
      ]
    },
    {
      "cell_type": "code",
      "metadata": {
        "id": "ide5eg5tmNFF"
      },
      "source": [
        "!git clone https://github.com/pachterlab/kallisto.git\n",
        "!apt-get install autoconf\n",
        "!cd kallisto && mkdir build && cd build && cmake .. && make"
      ],
      "execution_count": null,
      "outputs": []
    },
    {
      "cell_type": "markdown",
      "metadata": {
        "id": "lbPIlgLws7xH"
      },
      "source": [
        "Теперь загружаем и распаковываем файл с индексированным транскриптомом. В общем случае можно сгенерировать его самому, однако для человека он уже есть в открытом доступе. Если потребуется сделать индекс самостоятельно, то следует воспользоваться командой <code>kallisto index</code> (команда работает на <b>транскриптоме</b>, а не геноме &mdash; именно из транскриптома строится референсный граф де Брёйна)."
      ]
    },
    {
      "cell_type": "code",
      "metadata": {
        "id": "EpYbLVuelpcz"
      },
      "source": [
        "!wget https://github.com/pachterlab/kallisto-transcriptome-indices/releases/download/ensembl-96/homo_sapiens.tar.gz\n",
        "!tar -xvzf homo_sapiens.tar.gz && rm homo_sapiens.tar.gz"
      ],
      "execution_count": null,
      "outputs": []
    },
    {
      "cell_type": "markdown",
      "metadata": {
        "id": "yTXKeqm-JHcq"
      },
      "source": [
        "Теперь всё готово к запуску. Итоговые экспрессии положим в папку <code>expression_data</code>. Для начала запустим на одном образце и посмотрим, что у нас получилось. <b>Эта стадия может занять много времени.</b>"
      ]
    },
    {
      "cell_type": "code",
      "metadata": {
        "id": "9FESf5of9CA-",
        "colab": {
          "base_uri": "https://localhost:8080/"
        },
        "outputId": "b6ff2a71-b2db-48d0-903f-34d9f41a6010"
      },
      "source": [
        "!mkdir expression_data\n",
        "!./kallisto/build/src/kallisto quant \\\n",
        "    -i homo_sapiens/transcriptome.idx \\\n",
        "    -o expression_data/sample_8 \\\n",
        "    raw_reads/sample_8/ERR4781423_1.fastq.gz raw_reads/sample_8/ERR4781423_2.fastq.gz"
      ],
      "execution_count": null,
      "outputs": [
        {
          "output_type": "stream",
          "text": [
            "\n",
            "[quant] fragment length distribution will be estimated from the data\n",
            "[index] k-mer length: 31\n",
            "[index] number of targets: 188,753\n",
            "[index] number of k-mers: 109,544,288\n",
            "tcmalloc: large alloc 3221225472 bytes == 0x5642062da000 @  0x7f56c4287887 0x5642052eaad2 0x5642052e3061 0x5642052b804a 0x7f56c3107bf7 0x5642052bc0da\n",
            "[index] number of equivalence classes: 760,757\n",
            "[quant] running in paired-end mode\n",
            "[quant] will process pair 1: raw_reads/sample_8/ERR4781423_1.fastq.gz\n",
            "                             raw_reads/sample_8/ERR4781423_2.fastq.gz\n",
            "[quant] finding pseudoalignments for the reads ... done\n",
            "[quant] processed 29,071,502 reads, 26,150,309 reads pseudoaligned\n",
            "[quant] estimated average fragment length: 227.52\n",
            "[   em] quantifying the abundances ... done\n",
            "[   em] the Expectation-Maximization algorithm ran for 1,290 rounds\n",
            "\n"
          ],
          "name": "stdout"
        }
      ]
    },
    {
      "cell_type": "markdown",
      "metadata": {
        "id": "qekDXQpohHWq"
      },
      "source": [
        "Посмотрим, что хранится в файле <code>abundance.tsv</code> в папке <code>expression_data/sample_8/</code>. Для этого выведем строки с 990 по 1000, а также первую (с заголовком)."
      ]
    },
    {
      "cell_type": "code",
      "metadata": {
        "colab": {
          "base_uri": "https://localhost:8080/"
        },
        "id": "G0nBwMZohGOE",
        "outputId": "f8e0cf82-c9ce-432f-d17f-d257fa0a7bea"
      },
      "source": [
        "!head -n 1 expression_data/sample_8/abundance.tsv | tail -n 10\n",
        "!head -n 1000 expression_data/sample_8/abundance.tsv | tail -n 10"
      ],
      "execution_count": null,
      "outputs": [
        {
          "output_type": "stream",
          "text": [
            "target_id\tlength\teff_length\test_counts\ttpm\n",
            "ENST00000617210.4\t1547\t1320.48\t0\t0\n",
            "ENST00000611450.1\t1358\t1131.48\t0\t0\n",
            "ENST00000616910.4\t2886\t2659.48\t58.9113\t1.21791\n",
            "ENST00000613528.4\t4138\t3911.48\t4.12069\t0.0579217\n",
            "ENST00000611667.1\t2765\t2538.48\t0\t0\n",
            "ENST00000620720.3\t711\t485.355\t2108.56\t238.857\n",
            "ENST00000625297.1\t476\t260.075\t3.05918\t0.646725\n",
            "ENST00000610406.1\t353\t159.059\t72.4051\t25.0279\n",
            "ENST00000618740.4\t3421\t3194.48\t0\t0\n",
            "ENST00000615699.1\t3250\t3023.48\t0\t0\n"
          ],
          "name": "stdout"
        }
      ]
    },
    {
      "cell_type": "markdown",
      "metadata": {
        "id": "h6P9ZcUrhRHN"
      },
      "source": [
        "Видно, что напротив каждого <code>target_id</code> в конце строки стоят колонки <code>est_counts</code> и <code>tpm</code>. Это и есть наши уровни экспрессии. Важно, что, в отличие от результатов работы HTSeq и прочих алгоритмов подсчёта экспрессии, основанных на выравнивании, kallisto <b>оценивает</b> представленность транскриптов, а не физически считает их. Поэтому число ридов на транскрипт <code>est_counts</code> может быть <b>нецелым</b> (позже мы просто округлим его). Проверим, правда ли сумма значений в колонке <code>tpm</code> равна миллиону, а также соответствует ли сумма <code>est_counts</code> числу откартировавшихся прочтений (в логах kallisto срочка <code>processed 29,071,502 reads, 26,150,309 reads pseudoaligned</code>)."
      ]
    },
    {
      "cell_type": "code",
      "metadata": {
        "colab": {
          "base_uri": "https://localhost:8080/",
          "height": 458
        },
        "id": "T0u2cm-oEEyv",
        "outputId": "8ac2cefa-cf21-4222-e8c2-9d072d6fe0ae"
      },
      "source": [
        "import pandas as pd\n",
        "\n",
        "sample8_kallisto_output = pd.read_csv(\"expression_data/sample_8/abundance.tsv\",\n",
        "                                      sep=\"\\t\", index_col=0)\n",
        "tpm_sum = sample8_kallisto_output.tpm.sum()\n",
        "count_sum = sample8_kallisto_output.est_counts.sum()\n",
        "\n",
        "print(\"Counts: {}\\nTPM: {}\".format(tpm_sum, count_sum))"
      ],
      "execution_count": 2,
      "outputs": [
        {
          "output_type": "error",
          "ename": "FileNotFoundError",
          "evalue": "ignored",
          "traceback": [
            "\u001b[0;31m---------------------------------------------------------------------------\u001b[0m",
            "\u001b[0;31mFileNotFoundError\u001b[0m                         Traceback (most recent call last)",
            "\u001b[0;32m<ipython-input-2-824957b4fa43>\u001b[0m in \u001b[0;36m<module>\u001b[0;34m()\u001b[0m\n\u001b[1;32m      2\u001b[0m \u001b[0;34m\u001b[0m\u001b[0m\n\u001b[1;32m      3\u001b[0m sample8_kallisto_output = pd.read_csv(\"expression_data/sample_8/abundance.tsv\",\n\u001b[0;32m----> 4\u001b[0;31m                                       sep=\"\\t\", index_col=0)\n\u001b[0m\u001b[1;32m      5\u001b[0m \u001b[0mtpm_sum\u001b[0m \u001b[0;34m=\u001b[0m \u001b[0msample8_kallisto_output\u001b[0m\u001b[0;34m.\u001b[0m\u001b[0mtpm\u001b[0m\u001b[0;34m.\u001b[0m\u001b[0msum\u001b[0m\u001b[0;34m(\u001b[0m\u001b[0;34m)\u001b[0m\u001b[0;34m\u001b[0m\u001b[0;34m\u001b[0m\u001b[0m\n\u001b[1;32m      6\u001b[0m \u001b[0mcount_sum\u001b[0m \u001b[0;34m=\u001b[0m \u001b[0msample8_kallisto_output\u001b[0m\u001b[0;34m.\u001b[0m\u001b[0mest_counts\u001b[0m\u001b[0;34m.\u001b[0m\u001b[0msum\u001b[0m\u001b[0;34m(\u001b[0m\u001b[0;34m)\u001b[0m\u001b[0;34m\u001b[0m\u001b[0;34m\u001b[0m\u001b[0m\n",
            "\u001b[0;32m/usr/local/lib/python3.7/dist-packages/pandas/io/parsers.py\u001b[0m in \u001b[0;36mread_csv\u001b[0;34m(filepath_or_buffer, sep, delimiter, header, names, index_col, usecols, squeeze, prefix, mangle_dupe_cols, dtype, engine, converters, true_values, false_values, skipinitialspace, skiprows, skipfooter, nrows, na_values, keep_default_na, na_filter, verbose, skip_blank_lines, parse_dates, infer_datetime_format, keep_date_col, date_parser, dayfirst, cache_dates, iterator, chunksize, compression, thousands, decimal, lineterminator, quotechar, quoting, doublequote, escapechar, comment, encoding, dialect, error_bad_lines, warn_bad_lines, delim_whitespace, low_memory, memory_map, float_precision)\u001b[0m\n\u001b[1;32m    686\u001b[0m     )\n\u001b[1;32m    687\u001b[0m \u001b[0;34m\u001b[0m\u001b[0m\n\u001b[0;32m--> 688\u001b[0;31m     \u001b[0;32mreturn\u001b[0m \u001b[0m_read\u001b[0m\u001b[0;34m(\u001b[0m\u001b[0mfilepath_or_buffer\u001b[0m\u001b[0;34m,\u001b[0m \u001b[0mkwds\u001b[0m\u001b[0;34m)\u001b[0m\u001b[0;34m\u001b[0m\u001b[0;34m\u001b[0m\u001b[0m\n\u001b[0m\u001b[1;32m    689\u001b[0m \u001b[0;34m\u001b[0m\u001b[0m\n\u001b[1;32m    690\u001b[0m \u001b[0;34m\u001b[0m\u001b[0m\n",
            "\u001b[0;32m/usr/local/lib/python3.7/dist-packages/pandas/io/parsers.py\u001b[0m in \u001b[0;36m_read\u001b[0;34m(filepath_or_buffer, kwds)\u001b[0m\n\u001b[1;32m    452\u001b[0m \u001b[0;34m\u001b[0m\u001b[0m\n\u001b[1;32m    453\u001b[0m     \u001b[0;31m# Create the parser.\u001b[0m\u001b[0;34m\u001b[0m\u001b[0;34m\u001b[0m\u001b[0;34m\u001b[0m\u001b[0m\n\u001b[0;32m--> 454\u001b[0;31m     \u001b[0mparser\u001b[0m \u001b[0;34m=\u001b[0m \u001b[0mTextFileReader\u001b[0m\u001b[0;34m(\u001b[0m\u001b[0mfp_or_buf\u001b[0m\u001b[0;34m,\u001b[0m \u001b[0;34m**\u001b[0m\u001b[0mkwds\u001b[0m\u001b[0;34m)\u001b[0m\u001b[0;34m\u001b[0m\u001b[0;34m\u001b[0m\u001b[0m\n\u001b[0m\u001b[1;32m    455\u001b[0m \u001b[0;34m\u001b[0m\u001b[0m\n\u001b[1;32m    456\u001b[0m     \u001b[0;32mif\u001b[0m \u001b[0mchunksize\u001b[0m \u001b[0;32mor\u001b[0m \u001b[0miterator\u001b[0m\u001b[0;34m:\u001b[0m\u001b[0;34m\u001b[0m\u001b[0;34m\u001b[0m\u001b[0m\n",
            "\u001b[0;32m/usr/local/lib/python3.7/dist-packages/pandas/io/parsers.py\u001b[0m in \u001b[0;36m__init__\u001b[0;34m(self, f, engine, **kwds)\u001b[0m\n\u001b[1;32m    946\u001b[0m             \u001b[0mself\u001b[0m\u001b[0;34m.\u001b[0m\u001b[0moptions\u001b[0m\u001b[0;34m[\u001b[0m\u001b[0;34m\"has_index_names\"\u001b[0m\u001b[0;34m]\u001b[0m \u001b[0;34m=\u001b[0m \u001b[0mkwds\u001b[0m\u001b[0;34m[\u001b[0m\u001b[0;34m\"has_index_names\"\u001b[0m\u001b[0;34m]\u001b[0m\u001b[0;34m\u001b[0m\u001b[0;34m\u001b[0m\u001b[0m\n\u001b[1;32m    947\u001b[0m \u001b[0;34m\u001b[0m\u001b[0m\n\u001b[0;32m--> 948\u001b[0;31m         \u001b[0mself\u001b[0m\u001b[0;34m.\u001b[0m\u001b[0m_make_engine\u001b[0m\u001b[0;34m(\u001b[0m\u001b[0mself\u001b[0m\u001b[0;34m.\u001b[0m\u001b[0mengine\u001b[0m\u001b[0;34m)\u001b[0m\u001b[0;34m\u001b[0m\u001b[0;34m\u001b[0m\u001b[0m\n\u001b[0m\u001b[1;32m    949\u001b[0m \u001b[0;34m\u001b[0m\u001b[0m\n\u001b[1;32m    950\u001b[0m     \u001b[0;32mdef\u001b[0m \u001b[0mclose\u001b[0m\u001b[0;34m(\u001b[0m\u001b[0mself\u001b[0m\u001b[0;34m)\u001b[0m\u001b[0;34m:\u001b[0m\u001b[0;34m\u001b[0m\u001b[0;34m\u001b[0m\u001b[0m\n",
            "\u001b[0;32m/usr/local/lib/python3.7/dist-packages/pandas/io/parsers.py\u001b[0m in \u001b[0;36m_make_engine\u001b[0;34m(self, engine)\u001b[0m\n\u001b[1;32m   1178\u001b[0m     \u001b[0;32mdef\u001b[0m \u001b[0m_make_engine\u001b[0m\u001b[0;34m(\u001b[0m\u001b[0mself\u001b[0m\u001b[0;34m,\u001b[0m \u001b[0mengine\u001b[0m\u001b[0;34m=\u001b[0m\u001b[0;34m\"c\"\u001b[0m\u001b[0;34m)\u001b[0m\u001b[0;34m:\u001b[0m\u001b[0;34m\u001b[0m\u001b[0;34m\u001b[0m\u001b[0m\n\u001b[1;32m   1179\u001b[0m         \u001b[0;32mif\u001b[0m \u001b[0mengine\u001b[0m \u001b[0;34m==\u001b[0m \u001b[0;34m\"c\"\u001b[0m\u001b[0;34m:\u001b[0m\u001b[0;34m\u001b[0m\u001b[0;34m\u001b[0m\u001b[0m\n\u001b[0;32m-> 1180\u001b[0;31m             \u001b[0mself\u001b[0m\u001b[0;34m.\u001b[0m\u001b[0m_engine\u001b[0m \u001b[0;34m=\u001b[0m \u001b[0mCParserWrapper\u001b[0m\u001b[0;34m(\u001b[0m\u001b[0mself\u001b[0m\u001b[0;34m.\u001b[0m\u001b[0mf\u001b[0m\u001b[0;34m,\u001b[0m \u001b[0;34m**\u001b[0m\u001b[0mself\u001b[0m\u001b[0;34m.\u001b[0m\u001b[0moptions\u001b[0m\u001b[0;34m)\u001b[0m\u001b[0;34m\u001b[0m\u001b[0;34m\u001b[0m\u001b[0m\n\u001b[0m\u001b[1;32m   1181\u001b[0m         \u001b[0;32melse\u001b[0m\u001b[0;34m:\u001b[0m\u001b[0;34m\u001b[0m\u001b[0;34m\u001b[0m\u001b[0m\n\u001b[1;32m   1182\u001b[0m             \u001b[0;32mif\u001b[0m \u001b[0mengine\u001b[0m \u001b[0;34m==\u001b[0m \u001b[0;34m\"python\"\u001b[0m\u001b[0;34m:\u001b[0m\u001b[0;34m\u001b[0m\u001b[0;34m\u001b[0m\u001b[0m\n",
            "\u001b[0;32m/usr/local/lib/python3.7/dist-packages/pandas/io/parsers.py\u001b[0m in \u001b[0;36m__init__\u001b[0;34m(self, src, **kwds)\u001b[0m\n\u001b[1;32m   2008\u001b[0m         \u001b[0mkwds\u001b[0m\u001b[0;34m[\u001b[0m\u001b[0;34m\"usecols\"\u001b[0m\u001b[0;34m]\u001b[0m \u001b[0;34m=\u001b[0m \u001b[0mself\u001b[0m\u001b[0;34m.\u001b[0m\u001b[0musecols\u001b[0m\u001b[0;34m\u001b[0m\u001b[0;34m\u001b[0m\u001b[0m\n\u001b[1;32m   2009\u001b[0m \u001b[0;34m\u001b[0m\u001b[0m\n\u001b[0;32m-> 2010\u001b[0;31m         \u001b[0mself\u001b[0m\u001b[0;34m.\u001b[0m\u001b[0m_reader\u001b[0m \u001b[0;34m=\u001b[0m \u001b[0mparsers\u001b[0m\u001b[0;34m.\u001b[0m\u001b[0mTextReader\u001b[0m\u001b[0;34m(\u001b[0m\u001b[0msrc\u001b[0m\u001b[0;34m,\u001b[0m \u001b[0;34m**\u001b[0m\u001b[0mkwds\u001b[0m\u001b[0;34m)\u001b[0m\u001b[0;34m\u001b[0m\u001b[0;34m\u001b[0m\u001b[0m\n\u001b[0m\u001b[1;32m   2011\u001b[0m         \u001b[0mself\u001b[0m\u001b[0;34m.\u001b[0m\u001b[0munnamed_cols\u001b[0m \u001b[0;34m=\u001b[0m \u001b[0mself\u001b[0m\u001b[0;34m.\u001b[0m\u001b[0m_reader\u001b[0m\u001b[0;34m.\u001b[0m\u001b[0munnamed_cols\u001b[0m\u001b[0;34m\u001b[0m\u001b[0;34m\u001b[0m\u001b[0m\n\u001b[1;32m   2012\u001b[0m \u001b[0;34m\u001b[0m\u001b[0m\n",
            "\u001b[0;32mpandas/_libs/parsers.pyx\u001b[0m in \u001b[0;36mpandas._libs.parsers.TextReader.__cinit__\u001b[0;34m()\u001b[0m\n",
            "\u001b[0;32mpandas/_libs/parsers.pyx\u001b[0m in \u001b[0;36mpandas._libs.parsers.TextReader._setup_parser_source\u001b[0;34m()\u001b[0m\n",
            "\u001b[0;31mFileNotFoundError\u001b[0m: [Errno 2] No such file or directory: 'expression_data/sample_8/abundance.tsv'"
          ]
        }
      ]
    },
    {
      "cell_type": "markdown",
      "metadata": {
        "id": "l1_CNyh2ESh9"
      },
      "source": [
        "Всё сходится. Теперь давайте проведём анализ и с оставшимися образцами. <b>Это может занять много времени.</b>"
      ]
    },
    {
      "cell_type": "code",
      "metadata": {
        "id": "kaH_WI4shXV0"
      },
      "source": [
        "!./kallisto/build/src/kallisto quant \\\n",
        "    -i homo_sapiens/transcriptome.idx \\\n",
        "    -o expression_data/sample_7 \\\n",
        "    raw_reads/sample_7/ERR4781422_1.fastq.gz raw_reads/sample_7/ERR4781422_2.fastq.gz\n",
        "!./kallisto/build/src/kallisto quant \\\n",
        "    -i homo_sapiens/transcriptome.idx \\\n",
        "    -o expression_data/sample_9 \\\n",
        "    raw_reads/sample_9/ERR4781424_1.fastq.gz raw_reads/sample_9/ERR4781424_2.fastq.gz\n",
        "!./kallisto/build/src/kallisto quant \\\n",
        "    -i homo_sapiens/transcriptome.idx \\\n",
        "    -o expression_data/sample_10 \\\n",
        "    raw_reads/sample_10/ERR4781425_1.fastq.gz raw_reads/sample_10/ERR4781425_2.fastq.gz\n",
        "!./kallisto/build/src/kallisto quant \\\n",
        "    -i homo_sapiens/transcriptome.idx \\\n",
        "    -o expression_data/sample_11 \\\n",
        "    raw_reads/sample_11/ERR4781426_1.fastq.gz raw_reads/sample_11/ERR4781426_2.fastq.gz\n",
        "!./kallisto/build/src/kallisto quant \\\n",
        "    -i homo_sapiens/transcriptome.idx \\\n",
        "    -o expression_data/sample_12 \\\n",
        "    raw_reads/sample_12/ERR4781427_1.fastq.gz raw_reads/sample_12/ERR4781427_2.fastq.gz"
      ],
      "execution_count": null,
      "outputs": []
    },
    {
      "cell_type": "markdown",
      "metadata": {
        "id": "88glZuOzkIih"
      },
      "source": [
        "Обсчитанные образцы можно загрузить из папки <code>data</code> на GitHub-репозитории курса (файл <code>00. kallisto work.tar.gz</code>). Теперь склеим все обсчитанные экспрессии в одну сводную сводную таблицу."
      ]
    },
    {
      "cell_type": "code",
      "metadata": {
        "colab": {
          "base_uri": "https://localhost:8080/",
          "height": 225
        },
        "id": "f0A1I8hkiLlg",
        "outputId": "4fcd411f-5506-4a4b-da78-5d87e487db87"
      },
      "source": [
        "expressions_counts = pd.concat(\n",
        "    [pd.read_csv(\n",
        "        \"expression_data/{}/abundance.tsv\".format(expression),\n",
        "        sep=\"\\t\", index_col=0, header=0, usecols=[\"target_id\", expression],\n",
        "        names=[\"target_id\", \"1\", \"2\", expression, \"3\"]\n",
        "    ) for expression in [\"sample_7\", \"sample_8\", \"sample_9\", \"sample_10\", \"sample_11\", \"sample_12\"]],\n",
        "    axis=1, join=\"inner\"\n",
        ")\n",
        "expressions_counts.columns = [\"sample_7\", \"sample_8\", \"sample_9\", \"sample_10\", \"sample_11\", \"sample_12\"]\n",
        "expressions_counts.head()"
      ],
      "execution_count": null,
      "outputs": [
        {
          "output_type": "execute_result",
          "data": {
            "text/html": [
              "<div>\n",
              "<style scoped>\n",
              "    .dataframe tbody tr th:only-of-type {\n",
              "        vertical-align: middle;\n",
              "    }\n",
              "\n",
              "    .dataframe tbody tr th {\n",
              "        vertical-align: top;\n",
              "    }\n",
              "\n",
              "    .dataframe thead th {\n",
              "        text-align: right;\n",
              "    }\n",
              "</style>\n",
              "<table border=\"1\" class=\"dataframe\">\n",
              "  <thead>\n",
              "    <tr style=\"text-align: right;\">\n",
              "      <th></th>\n",
              "      <th>sample_7</th>\n",
              "      <th>sample_8</th>\n",
              "      <th>sample_9</th>\n",
              "      <th>sample_10</th>\n",
              "      <th>sample_11</th>\n",
              "      <th>sample_12</th>\n",
              "    </tr>\n",
              "    <tr>\n",
              "      <th>target_id</th>\n",
              "      <th></th>\n",
              "      <th></th>\n",
              "      <th></th>\n",
              "      <th></th>\n",
              "      <th></th>\n",
              "      <th></th>\n",
              "    </tr>\n",
              "  </thead>\n",
              "  <tbody>\n",
              "    <tr>\n",
              "      <th>ENST00000631435.1</th>\n",
              "      <td>0.0</td>\n",
              "      <td>0.0</td>\n",
              "      <td>0.0</td>\n",
              "      <td>0.0</td>\n",
              "      <td>0.0</td>\n",
              "      <td>0.0</td>\n",
              "    </tr>\n",
              "    <tr>\n",
              "      <th>ENST00000434970.2</th>\n",
              "      <td>0.0</td>\n",
              "      <td>0.0</td>\n",
              "      <td>0.0</td>\n",
              "      <td>0.0</td>\n",
              "      <td>0.0</td>\n",
              "      <td>0.0</td>\n",
              "    </tr>\n",
              "    <tr>\n",
              "      <th>ENST00000448914.1</th>\n",
              "      <td>0.0</td>\n",
              "      <td>0.0</td>\n",
              "      <td>0.0</td>\n",
              "      <td>0.0</td>\n",
              "      <td>0.0</td>\n",
              "      <td>0.0</td>\n",
              "    </tr>\n",
              "    <tr>\n",
              "      <th>ENST00000415118.1</th>\n",
              "      <td>0.0</td>\n",
              "      <td>0.0</td>\n",
              "      <td>0.0</td>\n",
              "      <td>0.0</td>\n",
              "      <td>0.0</td>\n",
              "      <td>0.0</td>\n",
              "    </tr>\n",
              "    <tr>\n",
              "      <th>ENST00000632684.1</th>\n",
              "      <td>0.0</td>\n",
              "      <td>0.0</td>\n",
              "      <td>0.0</td>\n",
              "      <td>0.0</td>\n",
              "      <td>0.0</td>\n",
              "      <td>0.0</td>\n",
              "    </tr>\n",
              "  </tbody>\n",
              "</table>\n",
              "</div>"
            ],
            "text/plain": [
              "                   sample_7  sample_8  ...  sample_11  sample_12\n",
              "target_id                              ...                      \n",
              "ENST00000631435.1       0.0       0.0  ...        0.0        0.0\n",
              "ENST00000434970.2       0.0       0.0  ...        0.0        0.0\n",
              "ENST00000448914.1       0.0       0.0  ...        0.0        0.0\n",
              "ENST00000415118.1       0.0       0.0  ...        0.0        0.0\n",
              "ENST00000632684.1       0.0       0.0  ...        0.0        0.0\n",
              "\n",
              "[5 rows x 6 columns]"
            ]
          },
          "metadata": {
            "tags": []
          },
          "execution_count": 3
        }
      ]
    },
    {
      "cell_type": "markdown",
      "metadata": {
        "id": "IMhfmvsxjgyx"
      },
      "source": [
        "## Анализ экспрессий\n",
        "\n",
        "На этом шаге мы будем искать дифференциально экспрессированные между образцами транскрипты."
      ]
    },
    {
      "cell_type": "markdown",
      "metadata": {
        "id": "zZvg5iI-jjRt"
      },
      "source": [
        "### rpy2\n",
        "\n",
        "Из-за того, что анализ дифференциальной экспрессии в основном написан для R, мы будем пользоваться пакетом rpy2, чтобы выполнять код R в Python."
      ]
    },
    {
      "cell_type": "code",
      "metadata": {
        "id": "pcWZAq3rjTm-"
      },
      "source": [
        "import rpy2\n",
        "from rpy2.robjects import r, pandas2ri\n",
        "\n",
        "%load_ext rpy2.ipython\n",
        "pandas2ri.activate()"
      ],
      "execution_count": null,
      "outputs": []
    },
    {
      "cell_type": "markdown",
      "metadata": {
        "id": "ICII1vkTj2oE"
      },
      "source": [
        "Вот таким образом выглядит ячейка, которая будет выполняться как R-скрипт:"
      ]
    },
    {
      "cell_type": "code",
      "metadata": {
        "colab": {
          "base_uri": "https://localhost:8080/"
        },
        "id": "TGkP8gKoj0mE",
        "outputId": "4ff371b0-02cb-4ccb-fe2f-82628e4840cb"
      },
      "source": [
        "%%R\n",
        "a <- c(1,2,3)\n",
        "a <- a**2\n",
        "print(a)"
      ],
      "execution_count": null,
      "outputs": [
        {
          "output_type": "stream",
          "text": [
            "[1] 1 4 9\n"
          ],
          "name": "stdout"
        }
      ]
    },
    {
      "cell_type": "markdown",
      "metadata": {
        "id": "tRURYMxsj6yc"
      },
      "source": [
        "Для того, чтобы объекты из окружения R попали в окружение Python (и наоборот), необходимо выполнить следующее:"
      ]
    },
    {
      "cell_type": "code",
      "metadata": {
        "colab": {
          "base_uri": "https://localhost:8080/"
        },
        "id": "VI6B7GENj5Rc",
        "outputId": "2602b848-2886-42f3-c2ad-809919e6040a"
      },
      "source": [
        "a = 20\n",
        "%R -i a\n",
        "%R a <- a**2\n",
        "%R -o a\n",
        "print(a, type(a))"
      ],
      "execution_count": null,
      "outputs": [
        {
          "output_type": "stream",
          "text": [
            "[400.] <class 'numpy.ndarray'>\n"
          ],
          "name": "stdout"
        }
      ]
    },
    {
      "cell_type": "markdown",
      "metadata": {
        "id": "cyeE9_BCkQ1g"
      },
      "source": [
        "Если хочется более полно овладеть rpy2, то лучше прочитайте <a href=\"https://rpy2.github.io/doc/latest/html/index.html\" target=\"_blank\">его документацию</a>."
      ]
    },
    {
      "cell_type": "markdown",
      "metadata": {
        "id": "_l2AziC-kss-"
      },
      "source": [
        "### Анализ дифференциальной экспрессии при помощи DESeq2\n",
        "\n",
        "Сейчас мы установим <a href=\"http://bioconductor.org/packages/release/bioc/html/DESeq2.html\" target=\"_blank\">DESeq2</a> (<a href=\"https://genomebiology.biomedcentral.com/articles/10.1186/s13059-014-0550-8\" target=\"_blank\">Love et al, 2014</a>) в наше окружение. Этот пакет нужен для параметрического анализа дифференциальной экспрессии и использует обобщённые линейные модели. На вход он получает матрицу с <b>ненормированными</b> каунтами (не TPM и не RPKM). <b>Установка DESeq2 может занять несколько минут.</b>"
      ]
    },
    {
      "cell_type": "code",
      "metadata": {
        "id": "zzRdaGfFkqeY"
      },
      "source": [
        "%%R\n",
        "if (!requireNamespace(\"BiocManager\", quietly = TRUE))\n",
        "    install.packages(\"BiocManager\")\n",
        "\n",
        "BiocManager::install(\"DESeq2\")\n",
        "\n",
        "library(\"DESeq2\")\n",
        "library(ggplot2)"
      ],
      "execution_count": null,
      "outputs": []
    },
    {
      "cell_type": "code",
      "metadata": {
        "id": "-LnGMH_xk1RG"
      },
      "source": [
        "%%R\n",
        "library(\"DESeq2\")\n",
        "library(ggplot2)"
      ],
      "execution_count": null,
      "outputs": []
    },
    {
      "cell_type": "markdown",
      "metadata": {
        "id": "bb99OOfAk26D"
      },
      "source": [
        "Далее мы перегружаем наш датафрейм из Python в R, чтобы  работать с ним там. Округлим наши экспрессии, чтобы они стали целочисленными (DESeq2 не умеет работать с нецелыми значениями каунтов) &mdash; для этого жёстко обозначим тип данных экспрессии как <code>int32</code>. Также во время портирования в R теряется индекс датафрейма (ID транскриптов), поэтому сохраним его в отдельную переменную."
      ]
    },
    {
      "cell_type": "code",
      "metadata": {
        "id": "61Be9VxHk4_I"
      },
      "source": [
        "expr_matrix = expressions_counts.copy()\n",
        "expr_matrix = expr_matrix.astype(\"int32\")\n",
        "expr_matrix.index.name = \"\"\n",
        "gene_id = expr_matrix.index.copy()\n",
        "%R -i expr_matrix\n",
        "%R -i gene_id"
      ],
      "execution_count": null,
      "outputs": []
    },
    {
      "cell_type": "code",
      "metadata": {
        "colab": {
          "base_uri": "https://localhost:8080/"
        },
        "id": "aZYV6qcVlM0-",
        "outputId": "863c6b32-6c3b-4261-f4a5-1f6c654d79e8"
      },
      "source": [
        "%%R\n",
        "rownames(expr_matrix) = make.names(gene_id, unique=TRUE)\n",
        "head(expr_matrix)"
      ],
      "execution_count": null,
      "outputs": [
        {
          "output_type": "stream",
          "text": [
            "                  sample_7 sample_8 sample_9 sample_10 sample_11 sample_12\n",
            "ENST00000631435.1        0        0        0         0         0         0\n",
            "ENST00000434970.2        0        0        0         0         0         0\n",
            "ENST00000448914.1        0        0        0         0         0         0\n",
            "ENST00000415118.1        0        0        0         0         0         0\n",
            "ENST00000632684.1        0        0        0         0         0         0\n",
            "ENST00000604446.1        0        0        0         0         0         0\n"
          ],
          "name": "stdout"
        }
      ]
    },
    {
      "cell_type": "markdown",
      "metadata": {
        "id": "kLUz4ByzlO8W"
      },
      "source": [
        "Видим, что в переменной <code>expr_matrix</code> в R содержится то же, что и в переменной <code>expressions_counts</code> в Python.\n",
        "\n",
        "Теперь необходимо создать <b>аннотацию</b> (переменная <code>colData</code> для каждого семпла). Аннотация представляет из себя ещё один датафрейм. В нём чисто столбцов совпадает с числом столбцов в датафрейме с экспрессиями, а помимо названий образцов там у нас будут различные <b>мета-данные</b>, в том числе и те, которые будут разделять образцы для дальнейшей дифференциальной экспрессии (у нас это будет условием <code>condition</code> с двумя возможными значениями &mdash; WT и Mut).\n",
        "\n",
        "После из датафреймов <code>expr_matrix</code> и <code>conditions</code> мы сделаем новую переменную <code>dds</code> специального типа, который используется при работе в <code>DESeq2</code>. Также во время создания объекта DESeqDataSet мы указываем условие, по которому будем считать дифференциальную экспрессию. Важно иметь в виду, что модель может оценивать дифференциальную экспрессию в зависимости от сразу нескольких факторов, которые могут быть в том числе и количественные."
      ]
    },
    {
      "cell_type": "code",
      "metadata": {
        "colab": {
          "base_uri": "https://localhost:8080/"
        },
        "id": "0a0rpPGgliNw",
        "outputId": "ee397794-3a7b-4465-874c-a74eb08b1bee"
      },
      "source": [
        "%%R\n",
        "condition <- c(\"WT\", \"WT\", \"WT\", \"STK11_del\", \"STK11_del\", \"STK11_del\")\n",
        "name <- c(\"sample_7\", \"sample_8\", \"sample_9\", \"sample_10\", \"sample_11\", \"sample_12\")\n",
        "colData <- data.frame(condition, name)\n",
        "dds <- DESeqDataSetFromMatrix(expr_matrix, colData, design=~condition)\n",
        "print(dds)"
      ],
      "execution_count": null,
      "outputs": [
        {
          "output_type": "stream",
          "text": [
            "class: DESeqDataSet \n",
            "dim: 188753 6 \n",
            "metadata(1): version\n",
            "assays(1): counts\n",
            "rownames(188753): ENST00000631435.1 ENST00000434970.2 ...\n",
            "  ENST00000646356.1 ENST00000645792.1\n",
            "rowData names(0):\n",
            "colnames(6): sample_7 sample_8 ... sample_11 sample_12\n",
            "colData names(2): condition name\n"
          ],
          "name": "stdout"
        }
      ]
    },
    {
      "cell_type": "markdown",
      "metadata": {
        "id": "b7YjZeNUl2Pg"
      },
      "source": [
        "Мы получили специальный объект класса <code>DESeqDataSet</code>. На нём мы выполним функцию <code>DESeq</code>, которая реализует весь пайплайн анализа дифференциальной экспрессии."
      ]
    },
    {
      "cell_type": "code",
      "metadata": {
        "colab": {
          "base_uri": "https://localhost:8080/"
        },
        "id": "1BqhBIYIlzBi",
        "outputId": "30ca5f88-0959-4420-8443-80645088717a"
      },
      "source": [
        "%%R\n",
        "dds <- DESeq(dds)"
      ],
      "execution_count": null,
      "outputs": [
        {
          "output_type": "stream",
          "text": [
            "R[write to console]: estimating size factors\n",
            "\n",
            "R[write to console]: estimating dispersions\n",
            "\n",
            "R[write to console]: gene-wise dispersion estimates\n",
            "\n",
            "R[write to console]: mean-dispersion relationship\n",
            "\n",
            "R[write to console]: final dispersion estimates\n",
            "\n",
            "R[write to console]: fitting model and testing\n",
            "\n"
          ],
          "name": "stderr"
        }
      ]
    },
    {
      "cell_type": "markdown",
      "metadata": {
        "id": "BUfmQ9Lvl7Qo"
      },
      "source": [
        "Посмотрим, что поменялось в переменной <code>dds</code>."
      ]
    },
    {
      "cell_type": "code",
      "metadata": {
        "colab": {
          "base_uri": "https://localhost:8080/"
        },
        "id": "CN1sIt5kl9Ax",
        "outputId": "42cba791-0f45-40d0-a644-3092801d20bd"
      },
      "source": [
        "%%R\n",
        "print(dds)"
      ],
      "execution_count": null,
      "outputs": [
        {
          "output_type": "stream",
          "text": [
            "class: DESeqDataSet \n",
            "dim: 188753 6 \n",
            "metadata(1): version\n",
            "assays(4): counts mu H cooks\n",
            "rownames(188753): ENST00000631435.1 ENST00000434970.2 ...\n",
            "  ENST00000646356.1 ENST00000645792.1\n",
            "rowData names(22): baseMean baseVar ... deviance maxCooks\n",
            "colnames(6): sample_7 sample_8 ... sample_11 sample_12\n",
            "colData names(3): condition name sizeFactor\n"
          ],
          "name": "stdout"
        }
      ]
    },
    {
      "cell_type": "markdown",
      "metadata": {
        "id": "aXS4FKdxoF54"
      },
      "source": [
        "Определим, какие же из транскриптов дифференциально экспрессированы между диким типом и мутантами. Сначала выведем статистику по каждому транскрипту."
      ]
    },
    {
      "cell_type": "code",
      "metadata": {
        "colab": {
          "base_uri": "https://localhost:8080/"
        },
        "id": "3qR5BhgToGV_",
        "outputId": "e3035a26-7953-4458-e4c5-6afb5db32fe1"
      },
      "source": [
        "%%R\n",
        "res <- results(dds)\n",
        "head(results(dds))"
      ],
      "execution_count": null,
      "outputs": [
        {
          "output_type": "stream",
          "text": [
            "log2 fold change (MLE): condition WT vs STK11 del \n",
            "Wald test p-value: condition WT vs STK11 del \n",
            "DataFrame with 6 rows and 6 columns\n",
            "                   baseMean log2FoldChange     lfcSE      stat    pvalue\n",
            "                  <numeric>      <numeric> <numeric> <numeric> <numeric>\n",
            "ENST00000631435.1         0             NA        NA        NA        NA\n",
            "ENST00000434970.2         0             NA        NA        NA        NA\n",
            "ENST00000448914.1         0             NA        NA        NA        NA\n",
            "ENST00000415118.1         0             NA        NA        NA        NA\n",
            "ENST00000632684.1         0             NA        NA        NA        NA\n",
            "ENST00000604446.1         0             NA        NA        NA        NA\n",
            "                       padj\n",
            "                  <numeric>\n",
            "ENST00000631435.1        NA\n",
            "ENST00000434970.2        NA\n",
            "ENST00000448914.1        NA\n",
            "ENST00000415118.1        NA\n",
            "ENST00000632684.1        NA\n",
            "ENST00000604446.1        NA\n"
          ],
          "name": "stdout"
        }
      ]
    },
    {
      "cell_type": "markdown",
      "metadata": {
        "id": "XrQPGhSPoIth"
      },
      "source": [
        "Значения NA у нас возникают у генов, которые никак не экспрессированы ни в одном образце (это нормально для человека). Упорядочим гены по p-value<sub>adj</sub>."
      ]
    },
    {
      "cell_type": "code",
      "metadata": {
        "colab": {
          "base_uri": "https://localhost:8080/"
        },
        "id": "FJOaHEXeoK-6",
        "outputId": "36e03561-e337-4e8f-e486-952e446ec5cb"
      },
      "source": [
        "%%R\n",
        "res <- res[order(res$padj),]\n",
        "head(res)"
      ],
      "execution_count": null,
      "outputs": [
        {
          "output_type": "stream",
          "text": [
            "log2 fold change (MLE): condition WT vs STK11 del \n",
            "Wald test p-value: condition WT vs STK11 del \n",
            "DataFrame with 6 rows and 6 columns\n",
            "                    baseMean log2FoldChange     lfcSE      stat      pvalue\n",
            "                   <numeric>      <numeric> <numeric> <numeric>   <numeric>\n",
            "ENST00000330722.7    873.197       -3.65437  0.323930  -11.2813 1.62245e-29\n",
            "ENST00000326873.11   417.343        2.46110  0.222520   11.0601 1.95871e-28\n",
            "ENST00000307407.8   1445.231       -4.75052  0.444434  -10.6889 1.14692e-26\n",
            "ENST00000432072.6   4649.747        3.34657  0.313067   10.6896 1.13840e-26\n",
            "ENST00000586243.5    165.586        3.21128  0.311787   10.2996 7.07538e-25\n",
            "ENST00000456923.5  14122.101        3.14184  0.320018    9.8177 9.44754e-23\n",
            "                          padj\n",
            "                     <numeric>\n",
            "ENST00000330722.7  9.77269e-25\n",
            "ENST00000326873.11 5.89905e-24\n",
            "ENST00000307407.8  1.72709e-22\n",
            "ENST00000432072.6  1.72709e-22\n",
            "ENST00000586243.5  8.52357e-21\n",
            "ENST00000456923.5  9.48438e-19\n"
          ],
          "name": "stdout"
        }
      ]
    },
    {
      "cell_type": "markdown",
      "metadata": {
        "id": "xwlZNOb1oQb0"
      },
      "source": [
        "Теперь можно визуализировать разницу между самыми различающимися транскриптами. При помощи функции DESeq2 <code>plotCounts</code> отобразим наглядно, какие уровни экспрессии у самым дифференциально экспрессированных транскриптов в обоих условиях."
      ]
    },
    {
      "cell_type": "code",
      "metadata": {
        "colab": {
          "base_uri": "https://localhost:8080/",
          "height": 497
        },
        "id": "z2KMv3T2oSBg",
        "outputId": "e7e80635-22d1-4d38-9858-770d4f67c1be"
      },
      "source": [
        "%%R -w 1000\n",
        "#Задаём размер текста и композицию графика\n",
        "par(mfrow=c(2,3), cex=1.0, cex.main=1.2, cex.axis=1, cex.lab=0.9)\n",
        "\n",
        "plotCounts(dds, gene=\"ENST00000330722.7\", intgroup=\"condition\")\n",
        "plotCounts(dds, gene=\"ENST00000326873.11\", intgroup=\"condition\")\n",
        "plotCounts(dds, gene=\"ENST00000307407.8\", intgroup=\"condition\")\n",
        "plotCounts(dds, gene=\"ENST00000432072.6\", intgroup=\"condition\")\n",
        "plotCounts(dds, gene=\"ENST00000586243.5\", intgroup=\"condition\")\n",
        "plotCounts(dds, gene=\"ENST00000456923.5\", intgroup=\"condition\")"
      ],
      "execution_count": null,
      "outputs": [
        {
          "output_type": "display_data",
          "data": {
            "image/png": "[encoded data removed]"
          },
          "metadata": {
            "tags": []
          }
        }
      ]
    },
    {
      "cell_type": "markdown",
      "metadata": {
        "id": "E_5ENCtVobOF"
      },
      "source": [
        "Построим по нашим результатам VolcanoPlot стандартными методами <code>ggplo2</code>. Вообще, для этого есть удобный пакет <code>EnhancedVolcano</code>, однако через rpy2 он не работает."
      ]
    },
    {
      "cell_type": "code",
      "metadata": {
        "colab": {
          "base_uri": "https://localhost:8080/",
          "height": 497
        },
        "id": "v2gW25ayobid",
        "outputId": "6f7f5957-d730-47bd-dfa9-8d19097c2064"
      },
      "source": [
        "%%R -w 600\n",
        "\n",
        "#Задаём размер текста и композицию графика\n",
        "par(mar=c(5,5,5,5), cex=1.0, cex.main=1.7, cex.axis=1, cex.lab=1.5)\n",
        "\n",
        "#Отрисовываем все точки чёрным цветом\n",
        "with(res, plot(log2FoldChange, -log10(padj), pch=20, main=\"Volcano plot\", cex=1.0, xlab=\"log2(FoldChange)\", ylab=\"−log10(p_adj)\"))\n",
        "\n",
        "#Отрисовываем точки, прошедшие порог, красным цветом\n",
        "with(subset(res, padj<0.001 & abs(log2FoldChange)>3), points(log2FoldChange, -log10(padj), pch=20, col=\"red\", cex=0.5))\n",
        "\n",
        "#Отрисовываем линии с порогами\n",
        "abline(v=0, col=\"black\", lty=3, lwd=1.0)\n",
        "abline(v=-3, col=\"black\", lty=4, lwd=2.0)\n",
        "abline(v=3, col=\"black\", lty=4, lwd=2.0)\n",
        "abline(h=3, col=\"black\", lty=4, lwd=2.0)"
      ],
      "execution_count": null,
      "outputs": [
        {
          "output_type": "display_data",
          "data": {
            "image/png": "[encoded data removed]"
          },
          "metadata": {
            "tags": []
          }
        }
      ]
    },
    {
      "cell_type": "markdown",
      "metadata": {
        "id": "0rhD7awOpLrK"
      },
      "source": [
        "# Домашнее задание\n",
        "\n",
        "<b>Дедлайн</b>: 9 ноября, 23:59\n",
        "\n",
        "<b>Форма отчёта</b>: ссылка на ноутбук в Google Colab или в вашем личном GitHub-репозитории. В ноутбуке должен быть воспроизводимый код, а также ответы на поставленные вопросы."
      ]
    },
    {
      "cell_type": "markdown",
      "metadata": {
        "id": "cN1ZBNsbGKBM"
      },
      "source": [
        "## Задание 1\n",
        "\n",
        "Напишите функцию, которая будет принимать на вход матрицу экспрессий в RPKM, а выводить матрицу экспрессий в TPM. Тестовые данные RPKM можете взять в папке <code>data</code> в GitHub-репозитории (файл <code>01. RPKM.tsv</code>). Можно ли так же просто перевести TPM обратно в RPKM?\n",
        "\n",
        "Все математические выкладки отобразите в ноутбуке (в том числе и вывод формулы перевода)."
      ]
    },
    {
      "cell_type": "code",
      "metadata": {
        "id": "gZXYhEwyGSKe",
        "outputId": "4801570b-7320-44aa-f33c-dd91e6a1d3bb",
        "colab": {
          "base_uri": "https://localhost:8080/",
          "height": 618
        }
      },
      "source": [
        "path = \"./RPKM.tsv\"\n",
        "\n",
        "rpkm = pd.read_csv(path, sep=\"\\t\", index_col=0)\n",
        "\n",
        "#tpm = 10^6 *counts / length\n",
        "#rpkm = 10^9 *(counts / length)/(sum(counts/length)) \n",
        "#tpm = rpkm / sum(rpkm)* million\n",
        "#print(rpkm)\n",
        "\n",
        "def RPKM_to_TPM(RPKM):\n",
        "  rpkm_sum = []\n",
        "  tpm = pd.DataFrame(index = RPKM.index, columns = RPKM.columns)\n",
        "  gene_count = len(RPKM.index)\n",
        "\n",
        "  for column in RPKM.columns:\n",
        "    rpkm_sum.append(sum(RPKM[column]))\n",
        "  for j in range(len(rpkm_sum)):  \n",
        "    for i in range(gene_count):\n",
        "      tpm.loc[i , j] = 10**6 * RPKM.loc[i, j] / rpkm_sum[j]\n",
        "\n",
        "  \n",
        "  return tpm\n",
        "\n",
        "print(RPKM_to_TPM(rpkm))"
      ],
      "execution_count": 19,
      "outputs": [
        {
          "output_type": "error",
          "ename": "KeyError",
          "evalue": "ignored",
          "traceback": [
            "\u001b[0;31m---------------------------------------------------------------------------\u001b[0m",
            "\u001b[0;31mKeyError\u001b[0m                                  Traceback (most recent call last)",
            "\u001b[0;32m/usr/local/lib/python3.7/dist-packages/pandas/core/indexes/base.py\u001b[0m in \u001b[0;36mget_loc\u001b[0;34m(self, key, method, tolerance)\u001b[0m\n\u001b[1;32m   2897\u001b[0m             \u001b[0;32mtry\u001b[0m\u001b[0;34m:\u001b[0m\u001b[0;34m\u001b[0m\u001b[0;34m\u001b[0m\u001b[0m\n\u001b[0;32m-> 2898\u001b[0;31m                 \u001b[0;32mreturn\u001b[0m \u001b[0mself\u001b[0m\u001b[0;34m.\u001b[0m\u001b[0m_engine\u001b[0m\u001b[0;34m.\u001b[0m\u001b[0mget_loc\u001b[0m\u001b[0;34m(\u001b[0m\u001b[0mcasted_key\u001b[0m\u001b[0;34m)\u001b[0m\u001b[0;34m\u001b[0m\u001b[0;34m\u001b[0m\u001b[0m\n\u001b[0m\u001b[1;32m   2899\u001b[0m             \u001b[0;32mexcept\u001b[0m \u001b[0mKeyError\u001b[0m \u001b[0;32mas\u001b[0m \u001b[0merr\u001b[0m\u001b[0;34m:\u001b[0m\u001b[0;34m\u001b[0m\u001b[0;34m\u001b[0m\u001b[0m\n",
            "\u001b[0;32mpandas/_libs/index.pyx\u001b[0m in \u001b[0;36mpandas._libs.index.IndexEngine.get_loc\u001b[0;34m()\u001b[0m\n",
            "\u001b[0;32mpandas/_libs/index.pyx\u001b[0m in \u001b[0;36mpandas._libs.index.IndexEngine.get_loc\u001b[0;34m()\u001b[0m\n",
            "\u001b[0;32mpandas/_libs/index.pyx\u001b[0m in \u001b[0;36mpandas._libs.index.IndexEngine._get_loc_duplicates\u001b[0;34m()\u001b[0m\n",
            "\u001b[0;32mpandas/_libs/index.pyx\u001b[0m in \u001b[0;36mpandas._libs.index.IndexEngine._maybe_get_bool_indexer\u001b[0;34m()\u001b[0m\n",
            "\u001b[0;32mpandas/_libs/index.pyx\u001b[0m in \u001b[0;36mpandas._libs.index.IndexEngine._unpack_bool_indexer\u001b[0;34m()\u001b[0m\n",
            "\u001b[0;31mKeyError\u001b[0m: 0",
            "\nThe above exception was the direct cause of the following exception:\n",
            "\u001b[0;31mKeyError\u001b[0m                                  Traceback (most recent call last)",
            "\u001b[0;32m<ipython-input-19-e93e6b593d78>\u001b[0m in \u001b[0;36m<module>\u001b[0;34m()\u001b[0m\n\u001b[1;32m     22\u001b[0m   \u001b[0;32mreturn\u001b[0m \u001b[0mtpm\u001b[0m\u001b[0;34m\u001b[0m\u001b[0;34m\u001b[0m\u001b[0m\n\u001b[1;32m     23\u001b[0m \u001b[0;34m\u001b[0m\u001b[0m\n\u001b[0;32m---> 24\u001b[0;31m \u001b[0mprint\u001b[0m\u001b[0;34m(\u001b[0m\u001b[0mRPKM_to_TPM\u001b[0m\u001b[0;34m(\u001b[0m\u001b[0mrpkm\u001b[0m\u001b[0;34m)\u001b[0m\u001b[0;34m)\u001b[0m\u001b[0;34m\u001b[0m\u001b[0;34m\u001b[0m\u001b[0m\n\u001b[0m",
            "\u001b[0;32m<ipython-input-19-e93e6b593d78>\u001b[0m in \u001b[0;36mRPKM_to_TPM\u001b[0;34m(RPKM)\u001b[0m\n\u001b[1;32m     17\u001b[0m   \u001b[0;32mfor\u001b[0m \u001b[0mj\u001b[0m \u001b[0;32min\u001b[0m \u001b[0mrange\u001b[0m\u001b[0;34m(\u001b[0m\u001b[0mlen\u001b[0m\u001b[0;34m(\u001b[0m\u001b[0mrpkm_sum\u001b[0m\u001b[0;34m)\u001b[0m\u001b[0;34m)\u001b[0m\u001b[0;34m:\u001b[0m\u001b[0;34m\u001b[0m\u001b[0;34m\u001b[0m\u001b[0m\n\u001b[1;32m     18\u001b[0m     \u001b[0;32mfor\u001b[0m \u001b[0mi\u001b[0m \u001b[0;32min\u001b[0m \u001b[0mrange\u001b[0m\u001b[0;34m(\u001b[0m\u001b[0mgene_count\u001b[0m\u001b[0;34m)\u001b[0m\u001b[0;34m:\u001b[0m\u001b[0;34m\u001b[0m\u001b[0;34m\u001b[0m\u001b[0m\n\u001b[0;32m---> 19\u001b[0;31m       \u001b[0mtpm\u001b[0m\u001b[0;34m.\u001b[0m\u001b[0mloc\u001b[0m\u001b[0;34m[\u001b[0m\u001b[0mi\u001b[0m \u001b[0;34m,\u001b[0m \u001b[0mj\u001b[0m\u001b[0;34m]\u001b[0m \u001b[0;34m=\u001b[0m \u001b[0;36m10\u001b[0m\u001b[0;34m**\u001b[0m\u001b[0;36m6\u001b[0m \u001b[0;34m*\u001b[0m \u001b[0mRPKM\u001b[0m\u001b[0;34m.\u001b[0m\u001b[0mloc\u001b[0m\u001b[0;34m[\u001b[0m\u001b[0mi\u001b[0m\u001b[0;34m,\u001b[0m \u001b[0mj\u001b[0m\u001b[0;34m]\u001b[0m \u001b[0;34m/\u001b[0m \u001b[0mrpkm_sum\u001b[0m\u001b[0;34m[\u001b[0m\u001b[0mj\u001b[0m\u001b[0;34m]\u001b[0m\u001b[0;34m\u001b[0m\u001b[0;34m\u001b[0m\u001b[0m\n\u001b[0m\u001b[1;32m     20\u001b[0m \u001b[0;34m\u001b[0m\u001b[0m\n\u001b[1;32m     21\u001b[0m \u001b[0;34m\u001b[0m\u001b[0m\n",
            "\u001b[0;32m/usr/local/lib/python3.7/dist-packages/pandas/core/indexing.py\u001b[0m in \u001b[0;36m__getitem__\u001b[0;34m(self, key)\u001b[0m\n\u001b[1;32m    871\u001b[0m                     \u001b[0;31m# AttributeError for IntervalTree get_value\u001b[0m\u001b[0;34m\u001b[0m\u001b[0;34m\u001b[0m\u001b[0;34m\u001b[0m\u001b[0m\n\u001b[1;32m    872\u001b[0m                     \u001b[0;32mpass\u001b[0m\u001b[0;34m\u001b[0m\u001b[0;34m\u001b[0m\u001b[0m\n\u001b[0;32m--> 873\u001b[0;31m             \u001b[0;32mreturn\u001b[0m \u001b[0mself\u001b[0m\u001b[0;34m.\u001b[0m\u001b[0m_getitem_tuple\u001b[0m\u001b[0;34m(\u001b[0m\u001b[0mkey\u001b[0m\u001b[0;34m)\u001b[0m\u001b[0;34m\u001b[0m\u001b[0;34m\u001b[0m\u001b[0m\n\u001b[0m\u001b[1;32m    874\u001b[0m         \u001b[0;32melse\u001b[0m\u001b[0;34m:\u001b[0m\u001b[0;34m\u001b[0m\u001b[0;34m\u001b[0m\u001b[0m\n\u001b[1;32m    875\u001b[0m             \u001b[0;31m# we by definition only have the 0th axis\u001b[0m\u001b[0;34m\u001b[0m\u001b[0;34m\u001b[0m\u001b[0;34m\u001b[0m\u001b[0m\n",
            "\u001b[0;32m/usr/local/lib/python3.7/dist-packages/pandas/core/indexing.py\u001b[0m in \u001b[0;36m_getitem_tuple\u001b[0;34m(self, tup)\u001b[0m\n\u001b[1;32m   1042\u001b[0m     \u001b[0;32mdef\u001b[0m \u001b[0m_getitem_tuple\u001b[0m\u001b[0;34m(\u001b[0m\u001b[0mself\u001b[0m\u001b[0;34m,\u001b[0m \u001b[0mtup\u001b[0m\u001b[0;34m:\u001b[0m \u001b[0mTuple\u001b[0m\u001b[0;34m)\u001b[0m\u001b[0;34m:\u001b[0m\u001b[0;34m\u001b[0m\u001b[0;34m\u001b[0m\u001b[0m\n\u001b[1;32m   1043\u001b[0m         \u001b[0;32mtry\u001b[0m\u001b[0;34m:\u001b[0m\u001b[0;34m\u001b[0m\u001b[0;34m\u001b[0m\u001b[0m\n\u001b[0;32m-> 1044\u001b[0;31m             \u001b[0;32mreturn\u001b[0m \u001b[0mself\u001b[0m\u001b[0;34m.\u001b[0m\u001b[0m_getitem_lowerdim\u001b[0m\u001b[0;34m(\u001b[0m\u001b[0mtup\u001b[0m\u001b[0;34m)\u001b[0m\u001b[0;34m\u001b[0m\u001b[0;34m\u001b[0m\u001b[0m\n\u001b[0m\u001b[1;32m   1045\u001b[0m         \u001b[0;32mexcept\u001b[0m \u001b[0mIndexingError\u001b[0m\u001b[0;34m:\u001b[0m\u001b[0;34m\u001b[0m\u001b[0;34m\u001b[0m\u001b[0m\n\u001b[1;32m   1046\u001b[0m             \u001b[0;32mpass\u001b[0m\u001b[0;34m\u001b[0m\u001b[0;34m\u001b[0m\u001b[0m\n",
            "\u001b[0;32m/usr/local/lib/python3.7/dist-packages/pandas/core/indexing.py\u001b[0m in \u001b[0;36m_getitem_lowerdim\u001b[0;34m(self, tup)\u001b[0m\n\u001b[1;32m    784\u001b[0m                 \u001b[0;31m# We don't need to check for tuples here because those are\u001b[0m\u001b[0;34m\u001b[0m\u001b[0;34m\u001b[0m\u001b[0;34m\u001b[0m\u001b[0m\n\u001b[1;32m    785\u001b[0m                 \u001b[0;31m#  caught by the _is_nested_tuple_indexer check above.\u001b[0m\u001b[0;34m\u001b[0m\u001b[0;34m\u001b[0m\u001b[0;34m\u001b[0m\u001b[0m\n\u001b[0;32m--> 786\u001b[0;31m                 \u001b[0msection\u001b[0m \u001b[0;34m=\u001b[0m \u001b[0mself\u001b[0m\u001b[0;34m.\u001b[0m\u001b[0m_getitem_axis\u001b[0m\u001b[0;34m(\u001b[0m\u001b[0mkey\u001b[0m\u001b[0;34m,\u001b[0m \u001b[0maxis\u001b[0m\u001b[0;34m=\u001b[0m\u001b[0mi\u001b[0m\u001b[0;34m)\u001b[0m\u001b[0;34m\u001b[0m\u001b[0;34m\u001b[0m\u001b[0m\n\u001b[0m\u001b[1;32m    787\u001b[0m \u001b[0;34m\u001b[0m\u001b[0m\n\u001b[1;32m    788\u001b[0m                 \u001b[0;31m# We should never have a scalar section here, because\u001b[0m\u001b[0;34m\u001b[0m\u001b[0;34m\u001b[0m\u001b[0;34m\u001b[0m\u001b[0m\n",
            "\u001b[0;32m/usr/local/lib/python3.7/dist-packages/pandas/core/indexing.py\u001b[0m in \u001b[0;36m_getitem_axis\u001b[0;34m(self, key, axis)\u001b[0m\n\u001b[1;32m   1108\u001b[0m         \u001b[0;31m# fall thru to straight lookup\u001b[0m\u001b[0;34m\u001b[0m\u001b[0;34m\u001b[0m\u001b[0;34m\u001b[0m\u001b[0m\n\u001b[1;32m   1109\u001b[0m         \u001b[0mself\u001b[0m\u001b[0;34m.\u001b[0m\u001b[0m_validate_key\u001b[0m\u001b[0;34m(\u001b[0m\u001b[0mkey\u001b[0m\u001b[0;34m,\u001b[0m \u001b[0maxis\u001b[0m\u001b[0;34m)\u001b[0m\u001b[0;34m\u001b[0m\u001b[0;34m\u001b[0m\u001b[0m\n\u001b[0;32m-> 1110\u001b[0;31m         \u001b[0;32mreturn\u001b[0m \u001b[0mself\u001b[0m\u001b[0;34m.\u001b[0m\u001b[0m_get_label\u001b[0m\u001b[0;34m(\u001b[0m\u001b[0mkey\u001b[0m\u001b[0;34m,\u001b[0m \u001b[0maxis\u001b[0m\u001b[0;34m=\u001b[0m\u001b[0maxis\u001b[0m\u001b[0;34m)\u001b[0m\u001b[0;34m\u001b[0m\u001b[0;34m\u001b[0m\u001b[0m\n\u001b[0m\u001b[1;32m   1111\u001b[0m \u001b[0;34m\u001b[0m\u001b[0m\n\u001b[1;32m   1112\u001b[0m     \u001b[0;32mdef\u001b[0m \u001b[0m_get_slice_axis\u001b[0m\u001b[0;34m(\u001b[0m\u001b[0mself\u001b[0m\u001b[0;34m,\u001b[0m \u001b[0mslice_obj\u001b[0m\u001b[0;34m:\u001b[0m \u001b[0mslice\u001b[0m\u001b[0;34m,\u001b[0m \u001b[0maxis\u001b[0m\u001b[0;34m:\u001b[0m \u001b[0mint\u001b[0m\u001b[0;34m)\u001b[0m\u001b[0;34m:\u001b[0m\u001b[0;34m\u001b[0m\u001b[0;34m\u001b[0m\u001b[0m\n",
            "\u001b[0;32m/usr/local/lib/python3.7/dist-packages/pandas/core/indexing.py\u001b[0m in \u001b[0;36m_get_label\u001b[0;34m(self, label, axis)\u001b[0m\n\u001b[1;32m   1057\u001b[0m     \u001b[0;32mdef\u001b[0m \u001b[0m_get_label\u001b[0m\u001b[0;34m(\u001b[0m\u001b[0mself\u001b[0m\u001b[0;34m,\u001b[0m \u001b[0mlabel\u001b[0m\u001b[0;34m,\u001b[0m \u001b[0maxis\u001b[0m\u001b[0;34m:\u001b[0m \u001b[0mint\u001b[0m\u001b[0;34m)\u001b[0m\u001b[0;34m:\u001b[0m\u001b[0;34m\u001b[0m\u001b[0;34m\u001b[0m\u001b[0m\n\u001b[1;32m   1058\u001b[0m         \u001b[0;31m# GH#5667 this will fail if the label is not present in the axis.\u001b[0m\u001b[0;34m\u001b[0m\u001b[0;34m\u001b[0m\u001b[0;34m\u001b[0m\u001b[0m\n\u001b[0;32m-> 1059\u001b[0;31m         \u001b[0;32mreturn\u001b[0m \u001b[0mself\u001b[0m\u001b[0;34m.\u001b[0m\u001b[0mobj\u001b[0m\u001b[0;34m.\u001b[0m\u001b[0mxs\u001b[0m\u001b[0;34m(\u001b[0m\u001b[0mlabel\u001b[0m\u001b[0;34m,\u001b[0m \u001b[0maxis\u001b[0m\u001b[0;34m=\u001b[0m\u001b[0maxis\u001b[0m\u001b[0;34m)\u001b[0m\u001b[0;34m\u001b[0m\u001b[0;34m\u001b[0m\u001b[0m\n\u001b[0m\u001b[1;32m   1060\u001b[0m \u001b[0;34m\u001b[0m\u001b[0m\n\u001b[1;32m   1061\u001b[0m     \u001b[0;32mdef\u001b[0m \u001b[0m_handle_lowerdim_multi_index_axis0\u001b[0m\u001b[0;34m(\u001b[0m\u001b[0mself\u001b[0m\u001b[0;34m,\u001b[0m \u001b[0mtup\u001b[0m\u001b[0;34m:\u001b[0m \u001b[0mTuple\u001b[0m\u001b[0;34m)\u001b[0m\u001b[0;34m:\u001b[0m\u001b[0;34m\u001b[0m\u001b[0;34m\u001b[0m\u001b[0m\n",
            "\u001b[0;32m/usr/local/lib/python3.7/dist-packages/pandas/core/generic.py\u001b[0m in \u001b[0;36mxs\u001b[0;34m(self, key, axis, level, drop_level)\u001b[0m\n\u001b[1;32m   3491\u001b[0m             \u001b[0mloc\u001b[0m\u001b[0;34m,\u001b[0m \u001b[0mnew_index\u001b[0m \u001b[0;34m=\u001b[0m \u001b[0mself\u001b[0m\u001b[0;34m.\u001b[0m\u001b[0mindex\u001b[0m\u001b[0;34m.\u001b[0m\u001b[0mget_loc_level\u001b[0m\u001b[0;34m(\u001b[0m\u001b[0mkey\u001b[0m\u001b[0;34m,\u001b[0m \u001b[0mdrop_level\u001b[0m\u001b[0;34m=\u001b[0m\u001b[0mdrop_level\u001b[0m\u001b[0;34m)\u001b[0m\u001b[0;34m\u001b[0m\u001b[0;34m\u001b[0m\u001b[0m\n\u001b[1;32m   3492\u001b[0m         \u001b[0;32melse\u001b[0m\u001b[0;34m:\u001b[0m\u001b[0;34m\u001b[0m\u001b[0;34m\u001b[0m\u001b[0m\n\u001b[0;32m-> 3493\u001b[0;31m             \u001b[0mloc\u001b[0m \u001b[0;34m=\u001b[0m \u001b[0mself\u001b[0m\u001b[0;34m.\u001b[0m\u001b[0mindex\u001b[0m\u001b[0;34m.\u001b[0m\u001b[0mget_loc\u001b[0m\u001b[0;34m(\u001b[0m\u001b[0mkey\u001b[0m\u001b[0;34m)\u001b[0m\u001b[0;34m\u001b[0m\u001b[0;34m\u001b[0m\u001b[0m\n\u001b[0m\u001b[1;32m   3494\u001b[0m \u001b[0;34m\u001b[0m\u001b[0m\n\u001b[1;32m   3495\u001b[0m             \u001b[0;32mif\u001b[0m \u001b[0misinstance\u001b[0m\u001b[0;34m(\u001b[0m\u001b[0mloc\u001b[0m\u001b[0;34m,\u001b[0m \u001b[0mnp\u001b[0m\u001b[0;34m.\u001b[0m\u001b[0mndarray\u001b[0m\u001b[0;34m)\u001b[0m\u001b[0;34m:\u001b[0m\u001b[0;34m\u001b[0m\u001b[0;34m\u001b[0m\u001b[0m\n",
            "\u001b[0;32m/usr/local/lib/python3.7/dist-packages/pandas/core/indexes/base.py\u001b[0m in \u001b[0;36mget_loc\u001b[0;34m(self, key, method, tolerance)\u001b[0m\n\u001b[1;32m   2898\u001b[0m                 \u001b[0;32mreturn\u001b[0m \u001b[0mself\u001b[0m\u001b[0;34m.\u001b[0m\u001b[0m_engine\u001b[0m\u001b[0;34m.\u001b[0m\u001b[0mget_loc\u001b[0m\u001b[0;34m(\u001b[0m\u001b[0mcasted_key\u001b[0m\u001b[0;34m)\u001b[0m\u001b[0;34m\u001b[0m\u001b[0;34m\u001b[0m\u001b[0m\n\u001b[1;32m   2899\u001b[0m             \u001b[0;32mexcept\u001b[0m \u001b[0mKeyError\u001b[0m \u001b[0;32mas\u001b[0m \u001b[0merr\u001b[0m\u001b[0;34m:\u001b[0m\u001b[0;34m\u001b[0m\u001b[0;34m\u001b[0m\u001b[0m\n\u001b[0;32m-> 2900\u001b[0;31m                 \u001b[0;32mraise\u001b[0m \u001b[0mKeyError\u001b[0m\u001b[0;34m(\u001b[0m\u001b[0mkey\u001b[0m\u001b[0;34m)\u001b[0m \u001b[0;32mfrom\u001b[0m \u001b[0merr\u001b[0m\u001b[0;34m\u001b[0m\u001b[0;34m\u001b[0m\u001b[0m\n\u001b[0m\u001b[1;32m   2901\u001b[0m \u001b[0;34m\u001b[0m\u001b[0m\n\u001b[1;32m   2902\u001b[0m         \u001b[0;32mif\u001b[0m \u001b[0mtolerance\u001b[0m \u001b[0;32mis\u001b[0m \u001b[0;32mnot\u001b[0m \u001b[0;32mNone\u001b[0m\u001b[0;34m:\u001b[0m\u001b[0;34m\u001b[0m\u001b[0;34m\u001b[0m\u001b[0m\n",
            "\u001b[0;31mKeyError\u001b[0m: 0"
          ]
        }
      ]
    },
    {
      "cell_type": "markdown",
      "metadata": {
        "id": "g-PSGnFTrqCV"
      },
      "source": [
        "## Задание 2\n",
        "\n",
        "До этого мы работали на уровне транскриптов. Это логично, ведь различные транскрипты с одного гена могут давать различные по функциям белки, а наша задача &mdash; оценить фенотип образца. Однако мы живём в неидеальном мире, и чаще всего что-то известно о функции какого-то <b>гена</b>, но не каждого транскрипта в частности. В связи с этим возникает задача аггрегации информации от уровня транскриптов (<i>transcript-level</i>) до уровня генов (<i>gene-level</i>).\n",
        "\n",
        "Наивное решение задачи достаточно просто &mdash; просто складываем каунты на уровне транскриптов до уровней соответствующих им генов. Однако всё не так просто. Представим, что с одного гена продуцируются два различных транскрипта: один имеет длину 10, а другой &mdash; 10 000. А теперь представим себе две крайние ситуации:\n",
        "\n",
        "1. У нас есть 1 000 молекул первого транскрипта и 1 молекула второго\n",
        "2. У нас есть 0 молекул первого транскрипта и 2 молекулы второго\n",
        "\n",
        "Когда мы считаем представленность на уровне транскриптов, мы бы достаточно точно оценили итоговое количество белка в первом и во втором случае. Однако давайте объединим прочтения до уровня генов, что получится в результате? А в результате мы не будем видеть разницу между первым и вторым случаем. Как избежать такой ситуации? Необходимо считать дифференциальную экспрессию на уровне транскриптов, после чего её аггрегировать.\n",
        "\n",
        "Существуют два пайплайна: первый придуман в лаборатории <a href=\"https://www.bbe.caltech.edu/people/lior-s-pachter\" target=\"_blank\">Лиора Пахтера</a> (это он же придумал kallisto) и называется <a href=\"https://pachterlab.github.io/sleuth/\" target=\"_blank\">sleuth</a> (<a href=\"https://www.nature.com/articles/nmeth.4324\" target=\"_blank\">Pimentel et al, 2017</a>. Помимо стандартного выходного файла <code>abundatnce.tsv</code> он требует файл с бутстреп-репликами <code>abundance.h5</code> (создание этого файла отдельно прописывается при запуске <code>kallisto quant</code>). В чём смысл бутстреп-реплик можно прочитать <a href=\"https://liorpachter.wordpress.com/2015/05/10/near-optimal-rna-seq-quantification-with-kallisto/\" target=\"_blank\">здесь</a> (если кратко, то они помогают лучше оценить дисперсию для параметрической модели).\n",
        "\n",
        "Второй подход основан на библиотеке <a href=\"https://bioconductor.org/packages/release/bioc/html/tximport.html\" target=\"_blank\">tximport</a> (<a href=\"https://f1000research.com/articles/4-1521/v2\" target=\"_blank\">Soneson et al, 2016</a>) для R. В ходе процессинга при помощи tximport учитывается неравномерное распределение длин изоформ гена &mdash; эта поправка напрямую учитывается в DESeq2, анализ которого теперь будет вызываться функцией <code>DESeqDataSetFromTximport()</code>.\n",
        "\n",
        "Ваша задача &mdash; выполнить анализ дифференциальной экспресси на уровне <b>генов</b> с использованием tximport (<a href=\"https://bioconductor.org/packages/release/bioc/vignettes/tximport/inst/doc/tximport.html\" target=\"_blank\">инструкцию можно прочитать тут</a>)."
      ]
    },
    {
      "cell_type": "code",
      "metadata": {
        "id": "VDmPNsVvgpX5"
      },
      "source": [
        "# Установка tximport\n",
        "BiocManager::install(\"tximport\")\n",
        "library(tximport)"
      ],
      "execution_count": null,
      "outputs": []
    },
    {
      "cell_type": "code",
      "metadata": {
        "id": "xriQGLUL3BIz"
      },
      "source": [
        "# Подготовка при помощи tximport\n",
        "\n",
        "files <- c(\"expression_data/sample_7/abundance.tsv\", ...)\n",
        "tx2gene <- ...\n",
        "txi.kallisto.tsv <- tximport(files, type = \"kallisto\", tx2gene = tx2gene,\n",
        "                             ignoreAfterBar = TRUE)\n",
        "head(txi.kallisto.tsv$counts)"
      ],
      "execution_count": null,
      "outputs": []
    },
    {
      "cell_type": "code",
      "metadata": {
        "id": "ckm6HG6-7H7m"
      },
      "source": [
        "# Обработка при помощи DESeq2 \n",
        "colData <- data.frame(...)\n",
        "rownames(colData) <- ...\n",
        "\n",
        "dds <- DESeqDataSetFromTximport(txi.kallisto.tsv, colData, ~condition)"
      ],
      "execution_count": null,
      "outputs": []
    },
    {
      "cell_type": "markdown",
      "metadata": {
        "id": "U7IOE2eYBYIu"
      },
      "source": [
        "Если интересно подробнее узнать про разницу между дифференциальной экспрессией на генах и на транскриптах, советую посмотреть два видео Лиора Пахтера: <a href=\"https://www.youtube.com/watch?v=T9oqQOkW7V8\" target=\"_blank\">первое</a> и <a href=\"https://www.youtube.com/watch?v=ucPBBTjH5EE\" target=\"_blank\">второе</a>."
      ]
    },
    {
      "cell_type": "markdown",
      "metadata": {
        "id": "FnYglmExqaa6"
      },
      "source": [
        "## Задание 3\n",
        "\n",
        "Из GitHub-репозитория (папка <code>data</code>) загрузите архив <code>03. kallisto hometask.tar.gz</code> для шести дополнительных образцов, которые были в исследовании. Выполните анализ, аналогичный тому, что мы делали на занятии: посмотрите на дифференциально экспрессированные гены для (1) просто нокаутов по <i>KEAP1</i> и для (2) нокаутов по обоим генам. <b>Дифференциальную экспрессию рассчитывайте на уровне генов, а не транскриптов.</b>\n",
        "\n",
        "Являются ли дифференциально экспрессированные гены во втором случае объединением дифференциально экспрессированных генов по нокаутом <i>KEAP1</i> и <i>STK11</i>? Почему?"
      ]
    },
    {
      "cell_type": "code",
      "metadata": {
        "id": "xtPe6fLIpNMY"
      },
      "source": [
        "# Вставьте ваш код здесь"
      ],
      "execution_count": null,
      "outputs": []
    },
    {
      "cell_type": "markdown",
      "metadata": {
        "id": "IYyi_dVQtGJQ"
      },
      "source": [
        "## Задание 4<sup>*</sup>\n",
        "\n",
        "Снизьте размерность транскрипционных профилей образцов при помощи метода клавных компонент. Постройте график по первым двум компонентам из PCA. Как именно это делается можно прочитать <a href=\"https://www.machinelearningmastery.ru/pca-using-python-scikit-learn-e653f8989e60/\" target=\"_blank\">тут</a> (в R это делается одной функцией <code>prcomp</code>). Объясните получившиеся результаты."
      ]
    },
    {
      "cell_type": "code",
      "metadata": {
        "id": "FumUmNCFtHTG"
      },
      "source": [
        "# Вставьте ваш код здесь"
      ],
      "execution_count": null,
      "outputs": []
    }
  ]
}